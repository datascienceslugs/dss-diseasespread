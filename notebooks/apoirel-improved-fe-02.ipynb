{
 "cells": [
  {
   "cell_type": "markdown",
   "metadata": {},
   "source": [
    "# DengueAI - Time-lagged features\n",
    "\n",
    "*Anders Poirel - 14-05-2020*"
   ]
  },
  {
   "cell_type": "code",
   "execution_count": 1,
   "metadata": {},
   "outputs": [],
   "source": [
    "import pandas as pd\n",
    "import seaborn as sns\n",
    "import matplotlib as mpl\n",
    "import matplotlib.pyplot as plt\n",
    "import os"
   ]
  },
  {
   "cell_type": "code",
   "execution_count": 12,
   "metadata": {},
   "outputs": [],
   "source": [
    "import sklearn\n",
    "from sklearn.pipeline import Pipeline\n",
    "from sklearn.impute import SimpleImputer\n",
    "from sklearn.preprocessing import StandardScaler\n",
    "from sklearn.linear_model import ElasticNet, Lasso\n",
    "from sklearn.model_selection import (cross_validate, TimeSeriesSplit)"
   ]
  },
  {
   "cell_type": "markdown",
   "metadata": {},
   "source": [
    "Figure prettyfying:"
   ]
  },
  {
   "cell_type": "code",
   "execution_count": 3,
   "metadata": {},
   "outputs": [],
   "source": [
    "mpl.rcParams['figure.dpi']= 150\n",
    "sns.set()"
   ]
  },
  {
   "cell_type": "markdown",
   "metadata": {},
   "source": [
    "## Reading data"
   ]
  },
  {
   "cell_type": "code",
   "execution_count": 13,
   "metadata": {},
   "outputs": [],
   "source": [
    "RAW_DATA_PATH = '../data/raw'\n",
    "PROCESSED_DATA_PATH = '../data/processed'"
   ]
  },
  {
   "cell_type": "code",
   "execution_count": 5,
   "metadata": {},
   "outputs": [],
   "source": [
    "train_features = pd.read_csv(os.path.join(RAW_DATA_PATH, \"dengue_features_train.csv\"))\n",
    "train_labels = pd.read_csv(os.path.join(RAW_DATA_PATH, \"dengue_labels_train.csv\"))\n",
    "test_features = pd.read_csv(os.path.join(RAW_DATA_PATH, \"dengue_features_test.csv\"))"
   ]
  },
  {
   "cell_type": "markdown",
   "metadata": {},
   "source": [
    "## Feature engineering"
   ]
  },
  {
   "cell_type": "markdown",
   "metadata": {},
   "source": [
    "Backfill missing features, combing ndvi indicators and drop unused/correlated columns"
   ]
  },
  {
   "cell_type": "code",
   "execution_count": 6,
   "metadata": {},
   "outputs": [],
   "source": [
    "train = (train_features\n",
    "    .drop( # correlated features\n",
    "        ['reanalysis_sat_precip_amt_mm', 'reanalysis_dew_point_temp_k', \n",
    "         'reanalysis_air_temp_k', 'reanalysis_tdtr_k'],\n",
    "        axis = 1\n",
    "    )\n",
    "    .fillna(method = 'backfill')\n",
    "    .assign(\n",
    "        ndvi_n = lambda x : x['ndvi_ne'] + x['ndvi_nw'] / 2,\n",
    "        ndvi_s = lambda x : x['ndvi_se'] + x['ndvi_sw'] / 2,\n",
    "        monthofyear = lambda x: pd.to_datetime(x['week_start_date']).dt.month\n",
    "    )\n",
    "    .drop( # unused features\n",
    "        ['ndvi_ne', 'ndvi_nw', 'ndvi_se', 'ndvi_sw', 'year', 'weekofyear',\n",
    "         'week_start_date'], \n",
    "        axis = 1\n",
    "    )\n",
    ")"
   ]
  },
  {
   "cell_type": "markdown",
   "metadata": {},
   "source": [
    "Select features that we want to shift"
   ]
  },
  {
   "cell_type": "code",
   "execution_count": 7,
   "metadata": {},
   "outputs": [],
   "source": [
    "ts_features = list(\n",
    "    train.loc[:, 'precipitation_amt_mm' : 'ndvi_s'].columns.values\n",
    ")"
   ]
  },
  {
   "cell_type": "markdown",
   "metadata": {},
   "source": [
    "Split data between San Juan and Iquitos"
   ]
  },
  {
   "cell_type": "code",
   "execution_count": 8,
   "metadata": {},
   "outputs": [],
   "source": [
    "train_sj = train[train['city'] == 'sj'].drop('city', axis = 1).reset_index()\n",
    "train_iq = train[train['city'] == 'iq'].drop('city', axis = 1).reset_index()"
   ]
  },
  {
   "cell_type": "markdown",
   "metadata": {},
   "source": [
    "Function for adding time-lagged features to dataframe"
   ]
  },
  {
   "cell_type": "code",
   "execution_count": 9,
   "metadata": {},
   "outputs": [],
   "source": [
    "def add_lagged_features(df, max_lag, features):\n",
    "    lag_df = [\n",
    "        df[features].shift(k).add_prefix('lag' + str(k) + '_')\n",
    "        for k in range(1, max_lag+1)\n",
    "    ]\n",
    "    return pd.concat([df] + lag_df, axis = 1)"
   ]
  },
  {
   "cell_type": "markdown",
   "metadata": {},
   "source": [
    "Add the lagged features to each dataframe. As before, we fill crudely\n",
    "using `method = 'backfill'`, though a more sophisticated approach would be \n",
    "preferred"
   ]
  },
  {
   "cell_type": "code",
   "execution_count": 10,
   "metadata": {},
   "outputs": [],
   "source": [
    "train_sj = add_lagged_features(train_sj, 7, ts_features).fillna(method = 'backfill')\n",
    "train_iq = add_lagged_features(train_iq, 7, ts_features).fillna(method = 'backfill')"
   ]
  },
  {
   "cell_type": "code",
   "execution_count": 11,
   "metadata": {},
   "outputs": [
    {
     "data": {
      "text/html": [
       "<div>\n",
       "<style scoped>\n",
       "    .dataframe tbody tr th:only-of-type {\n",
       "        vertical-align: middle;\n",
       "    }\n",
       "\n",
       "    .dataframe tbody tr th {\n",
       "        vertical-align: top;\n",
       "    }\n",
       "\n",
       "    .dataframe thead th {\n",
       "        text-align: right;\n",
       "    }\n",
       "</style>\n",
       "<table border=\"1\" class=\"dataframe\">\n",
       "  <thead>\n",
       "    <tr style=\"text-align: right;\">\n",
       "      <th></th>\n",
       "      <th>index</th>\n",
       "      <th>precipitation_amt_mm</th>\n",
       "      <th>reanalysis_avg_temp_k</th>\n",
       "      <th>reanalysis_max_air_temp_k</th>\n",
       "      <th>reanalysis_min_air_temp_k</th>\n",
       "      <th>reanalysis_precip_amt_kg_per_m2</th>\n",
       "      <th>reanalysis_relative_humidity_percent</th>\n",
       "      <th>reanalysis_specific_humidity_g_per_kg</th>\n",
       "      <th>station_avg_temp_c</th>\n",
       "      <th>station_diur_temp_rng_c</th>\n",
       "      <th>...</th>\n",
       "      <th>lag7_reanalysis_precip_amt_kg_per_m2</th>\n",
       "      <th>lag7_reanalysis_relative_humidity_percent</th>\n",
       "      <th>lag7_reanalysis_specific_humidity_g_per_kg</th>\n",
       "      <th>lag7_station_avg_temp_c</th>\n",
       "      <th>lag7_station_diur_temp_rng_c</th>\n",
       "      <th>lag7_station_max_temp_c</th>\n",
       "      <th>lag7_station_min_temp_c</th>\n",
       "      <th>lag7_station_precip_mm</th>\n",
       "      <th>lag7_ndvi_n</th>\n",
       "      <th>lag7_ndvi_s</th>\n",
       "    </tr>\n",
       "  </thead>\n",
       "  <tbody>\n",
       "    <tr>\n",
       "      <th>0</th>\n",
       "      <td>936</td>\n",
       "      <td>25.41</td>\n",
       "      <td>298.450000</td>\n",
       "      <td>307.3</td>\n",
       "      <td>293.1</td>\n",
       "      <td>43.19</td>\n",
       "      <td>92.418571</td>\n",
       "      <td>16.651429</td>\n",
       "      <td>26.400000</td>\n",
       "      <td>10.775000</td>\n",
       "      <td>...</td>\n",
       "      <td>43.19</td>\n",
       "      <td>92.418571</td>\n",
       "      <td>16.651429</td>\n",
       "      <td>26.4</td>\n",
       "      <td>10.775</td>\n",
       "      <td>32.5</td>\n",
       "      <td>20.7</td>\n",
       "      <td>3.0</td>\n",
       "      <td>0.259014</td>\n",
       "      <td>0.464486</td>\n",
       "    </tr>\n",
       "    <tr>\n",
       "      <th>1</th>\n",
       "      <td>937</td>\n",
       "      <td>60.61</td>\n",
       "      <td>298.428571</td>\n",
       "      <td>306.6</td>\n",
       "      <td>291.1</td>\n",
       "      <td>46.00</td>\n",
       "      <td>93.581429</td>\n",
       "      <td>16.862857</td>\n",
       "      <td>26.900000</td>\n",
       "      <td>11.566667</td>\n",
       "      <td>...</td>\n",
       "      <td>43.19</td>\n",
       "      <td>92.418571</td>\n",
       "      <td>16.651429</td>\n",
       "      <td>26.4</td>\n",
       "      <td>10.775</td>\n",
       "      <td>32.5</td>\n",
       "      <td>20.7</td>\n",
       "      <td>3.0</td>\n",
       "      <td>0.259014</td>\n",
       "      <td>0.464486</td>\n",
       "    </tr>\n",
       "    <tr>\n",
       "      <th>2</th>\n",
       "      <td>938</td>\n",
       "      <td>55.52</td>\n",
       "      <td>297.392857</td>\n",
       "      <td>304.5</td>\n",
       "      <td>292.6</td>\n",
       "      <td>64.77</td>\n",
       "      <td>95.848571</td>\n",
       "      <td>17.120000</td>\n",
       "      <td>26.800000</td>\n",
       "      <td>11.466667</td>\n",
       "      <td>...</td>\n",
       "      <td>43.19</td>\n",
       "      <td>92.418571</td>\n",
       "      <td>16.651429</td>\n",
       "      <td>26.4</td>\n",
       "      <td>10.775</td>\n",
       "      <td>32.5</td>\n",
       "      <td>20.7</td>\n",
       "      <td>3.0</td>\n",
       "      <td>0.259014</td>\n",
       "      <td>0.464486</td>\n",
       "    </tr>\n",
       "    <tr>\n",
       "      <th>3</th>\n",
       "      <td>939</td>\n",
       "      <td>5.60</td>\n",
       "      <td>296.228571</td>\n",
       "      <td>303.6</td>\n",
       "      <td>288.6</td>\n",
       "      <td>23.96</td>\n",
       "      <td>87.234286</td>\n",
       "      <td>14.431429</td>\n",
       "      <td>25.766667</td>\n",
       "      <td>10.533333</td>\n",
       "      <td>...</td>\n",
       "      <td>43.19</td>\n",
       "      <td>92.418571</td>\n",
       "      <td>16.651429</td>\n",
       "      <td>26.4</td>\n",
       "      <td>10.775</td>\n",
       "      <td>32.5</td>\n",
       "      <td>20.7</td>\n",
       "      <td>3.0</td>\n",
       "      <td>0.259014</td>\n",
       "      <td>0.464486</td>\n",
       "    </tr>\n",
       "    <tr>\n",
       "      <th>4</th>\n",
       "      <td>940</td>\n",
       "      <td>62.76</td>\n",
       "      <td>297.635714</td>\n",
       "      <td>307.0</td>\n",
       "      <td>291.5</td>\n",
       "      <td>31.80</td>\n",
       "      <td>88.161429</td>\n",
       "      <td>15.444286</td>\n",
       "      <td>26.600000</td>\n",
       "      <td>11.480000</td>\n",
       "      <td>...</td>\n",
       "      <td>43.19</td>\n",
       "      <td>92.418571</td>\n",
       "      <td>16.651429</td>\n",
       "      <td>26.4</td>\n",
       "      <td>10.775</td>\n",
       "      <td>32.5</td>\n",
       "      <td>20.7</td>\n",
       "      <td>3.0</td>\n",
       "      <td>0.259014</td>\n",
       "      <td>0.464486</td>\n",
       "    </tr>\n",
       "  </tbody>\n",
       "</table>\n",
       "<p>5 rows × 114 columns</p>\n",
       "</div>"
      ],
      "text/plain": [
       "   index  precipitation_amt_mm  reanalysis_avg_temp_k  \\\n",
       "0    936                 25.41             298.450000   \n",
       "1    937                 60.61             298.428571   \n",
       "2    938                 55.52             297.392857   \n",
       "3    939                  5.60             296.228571   \n",
       "4    940                 62.76             297.635714   \n",
       "\n",
       "   reanalysis_max_air_temp_k  reanalysis_min_air_temp_k  \\\n",
       "0                      307.3                      293.1   \n",
       "1                      306.6                      291.1   \n",
       "2                      304.5                      292.6   \n",
       "3                      303.6                      288.6   \n",
       "4                      307.0                      291.5   \n",
       "\n",
       "   reanalysis_precip_amt_kg_per_m2  reanalysis_relative_humidity_percent  \\\n",
       "0                            43.19                             92.418571   \n",
       "1                            46.00                             93.581429   \n",
       "2                            64.77                             95.848571   \n",
       "3                            23.96                             87.234286   \n",
       "4                            31.80                             88.161429   \n",
       "\n",
       "   reanalysis_specific_humidity_g_per_kg  station_avg_temp_c  \\\n",
       "0                              16.651429           26.400000   \n",
       "1                              16.862857           26.900000   \n",
       "2                              17.120000           26.800000   \n",
       "3                              14.431429           25.766667   \n",
       "4                              15.444286           26.600000   \n",
       "\n",
       "   station_diur_temp_rng_c  ...  lag7_reanalysis_precip_amt_kg_per_m2  \\\n",
       "0                10.775000  ...                                 43.19   \n",
       "1                11.566667  ...                                 43.19   \n",
       "2                11.466667  ...                                 43.19   \n",
       "3                10.533333  ...                                 43.19   \n",
       "4                11.480000  ...                                 43.19   \n",
       "\n",
       "   lag7_reanalysis_relative_humidity_percent  \\\n",
       "0                                  92.418571   \n",
       "1                                  92.418571   \n",
       "2                                  92.418571   \n",
       "3                                  92.418571   \n",
       "4                                  92.418571   \n",
       "\n",
       "   lag7_reanalysis_specific_humidity_g_per_kg  lag7_station_avg_temp_c  \\\n",
       "0                                   16.651429                     26.4   \n",
       "1                                   16.651429                     26.4   \n",
       "2                                   16.651429                     26.4   \n",
       "3                                   16.651429                     26.4   \n",
       "4                                   16.651429                     26.4   \n",
       "\n",
       "   lag7_station_diur_temp_rng_c  lag7_station_max_temp_c  \\\n",
       "0                        10.775                     32.5   \n",
       "1                        10.775                     32.5   \n",
       "2                        10.775                     32.5   \n",
       "3                        10.775                     32.5   \n",
       "4                        10.775                     32.5   \n",
       "\n",
       "   lag7_station_min_temp_c  lag7_station_precip_mm  lag7_ndvi_n  lag7_ndvi_s  \n",
       "0                     20.7                     3.0     0.259014     0.464486  \n",
       "1                     20.7                     3.0     0.259014     0.464486  \n",
       "2                     20.7                     3.0     0.259014     0.464486  \n",
       "3                     20.7                     3.0     0.259014     0.464486  \n",
       "4                     20.7                     3.0     0.259014     0.464486  \n",
       "\n",
       "[5 rows x 114 columns]"
      ]
     },
     "execution_count": 11,
     "metadata": {},
     "output_type": "execute_result"
    }
   ],
   "source": [
    "train_iq.head()"
   ]
  },
  {
   "cell_type": "markdown",
   "metadata": {},
   "source": [
    "## Writing the files"
   ]
  },
  {
   "cell_type": "code",
   "execution_count": 15,
   "metadata": {},
   "outputs": [],
   "source": [
    "train_sj.to_csv(os.path.join(PROCESSED_DATA_PATH, 'train_sj.csv'), index = False)\n",
    "train_iq.to_csv(os.path.join(PROCESSED_DATA_PATH, 'train_iq.csv'), index = False)"
   ]
  }
 ],
 "metadata": {
  "kernelspec": {
   "display_name": "Python 3.7.4 64-bit ('base': conda)",
   "language": "python",
   "name": "python37464bitbasecondaebb5fd6537484cccb71c56cdcc6ab0f8"
  },
  "language_info": {
   "codemirror_mode": {
    "name": "ipython",
    "version": 3
   },
   "file_extension": ".py",
   "mimetype": "text/x-python",
   "name": "python",
   "nbconvert_exporter": "python",
   "pygments_lexer": "ipython3",
   "version": "3.7.4"
  }
 },
 "nbformat": 4,
 "nbformat_minor": 4
}
