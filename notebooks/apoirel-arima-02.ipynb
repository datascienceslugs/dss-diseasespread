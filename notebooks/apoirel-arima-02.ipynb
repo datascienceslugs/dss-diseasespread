{
 "cells": [
  {
   "cell_type": "markdown",
   "metadata": {},
   "source": [
    "# Arima Exploration (2)\n",
    "\n",
    "*Anders Poirel - 23/06/2020*\n",
    "\n",
    "In this notebook, the goal will be to explore possibilities for a dynamic ARIMA model,\n",
    "using time-lagged features, as suggested by the paper \"Time Series Modeling of Dengue\n",
    "Incidence in the Mekong River Delta\".\n",
    "\n",
    "We will use merged features as before (that is, we average out features\n",
    "that are estimates of the same thing, e.g. station and satellite measurements\n",
    "of temperature."
   ]
  },
  {
   "cell_type": "code",
   "execution_count": 2,
   "metadata": {},
   "outputs": [],
   "source": [
    "import pandas as pd\n",
    "import seaborn as sns\n",
    "import matplotlib as mpl\n",
    "import matplotlib.pyplot as plt\n",
    "\n",
    "import os\n",
    "\n",
    "from sklearn.preprocessing import StandardScaler\n",
    "from sklearn.compose import ColumnTransformer"
   ]
  },
  {
   "cell_type": "code",
   "execution_count": 3,
   "metadata": {},
   "outputs": [],
   "source": [
    "mpl.rcParams.update({\n",
    "    'axes.grid.axis' : 'y',\n",
    "    'font.family' : 'serif',\n",
    "    'font.serif' : ['Computer Modern Roman', 'serif'],\n",
    "    'text.usetex': False,\n",
    "    'figure.autolayout': True,\n",
    "    'figure.dpi': 150\n",
    "})\n",
    "sns.set()"
   ]
  },
  {
   "cell_type": "markdown",
   "metadata": {},
   "source": [
    "## Reading the data"
   ]
  },
  {
   "cell_type": "code",
   "execution_count": null,
   "metadata": {},
   "outputs": [],
   "source": []
  }
 ],
 "metadata": {
  "kernelspec": {
   "display_name": "denguai",
   "language": "python",
   "name": "denguai"
  },
  "language_info": {
   "codemirror_mode": {
    "name": "ipython",
    "version": 3
   },
   "file_extension": ".py",
   "mimetype": "text/x-python",
   "name": "python",
   "nbconvert_exporter": "python",
   "pygments_lexer": "ipython3",
   "version": "3.8.1"
  }
 },
 "nbformat": 4,
 "nbformat_minor": 4
}
