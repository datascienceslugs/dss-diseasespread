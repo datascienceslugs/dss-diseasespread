{
 "cells": [
  {
   "cell_type": "markdown",
   "metadata": {},
   "source": [
    "# Lagged Features Exploration\n",
    "\n",
    "Papers I've read seem to indicate that features far in the past have an impact. What if we built features \n",
    "for many lags and selected those with the highest correlation with our target?"
   ]
  },
  {
   "cell_type": "code",
   "execution_count": 1,
   "metadata": {},
   "outputs": [],
   "source": [
    "import pandas as pd\n",
    "import numpy as np\n",
    "import matplotlib as mpl\n",
    "import matplotlib.pyplot as plt\n",
    "import seaborn as sns\n",
    "import os"
   ]
  },
  {
   "cell_type": "code",
   "execution_count": 3,
   "metadata": {},
   "outputs": [
    {
     "name": "stdout",
     "output_type": "stream",
     "text": [
      "C:\\Users\\Anders\\Documents\\data-science-projects\\dss-diseasespread\n"
     ]
    }
   ],
   "source": [
    "cd .."
   ]
  },
  {
   "cell_type": "code",
   "execution_count": 14,
   "metadata": {},
   "outputs": [],
   "source": [
    "mpl.rcParams.update({\n",
    "    'figure.autolayout': True,\n",
    "    'figure.dpi': 150\n",
    "})\n",
    "sns.set()"
   ]
  },
  {
   "cell_type": "markdown",
   "metadata": {},
   "source": [
    "## Reading the data"
   ]
  },
  {
   "cell_type": "code",
   "execution_count": 13,
   "metadata": {},
   "outputs": [],
   "source": [
    "RAW_PATH = 'data/raw'"
   ]
  },
  {
   "cell_type": "code",
   "execution_count": 15,
   "metadata": {},
   "outputs": [],
   "source": [
    "train_features = pd.read_csv(\n",
    "    os.path.join(RAW_PATH, 'dengue_features_train.csv')\n",
    ")\n",
    "train_labels = pd.read_csv(\n",
    "    os.path.join(RAW_PATH, 'dengue_labels_train.csv')\n",
    ")\n",
    "test_features = pd.read_csv(\n",
    "    os.path.join(RAW_PATH, 'dengue_features_test.csv')\n",
    ")"
   ]
  },
  {
   "cell_type": "markdown",
   "metadata": {},
   "source": [
    "## Lagged Features"
   ]
  },
  {
   "cell_type": "code",
   "execution_count": 22,
   "metadata": {},
   "outputs": [],
   "source": [
    "def make_dataset(features):\n",
    "    features = (features\n",
    "        .drop( # correlated features\n",
    "            ['reanalysis_sat_precip_amt_mm', 'reanalysis_dew_point_temp_k', \n",
    "             'reanalysis_air_temp_k', 'reanalysis_tdtr_k'],\n",
    "            axis = 1\n",
    "        )\n",
    "        .fillna(method = 'backfill')\n",
    "        .drop( # unused features\n",
    "            ['year', 'weekofyear','week_start_date'], \n",
    "            axis = 1\n",
    "        )\n",
    "    )\n",
    "    ts_features = list(features.loc[:, 'ndvi_ne' :].columns.values)\n",
    "\n",
    "    features_sj = features[\n",
    "        features['city'] == 'sj']\n",
    "    features_iq = features[\n",
    "        features['city'] == 'iq']\n",
    "\n",
    "    features_sj = add_lagged_features(\n",
    "        features_sj, 52, ts_features).fillna(method = 'backfill')\n",
    "    features_iq = add_lagged_features(\n",
    "        features_iq, 52, ts_features).fillna(method = 'backfill')\n",
    "\n",
    "    features = pd.concat([features_sj, features_iq], axis = 0)\n",
    "\n",
    "    return features"
   ]
  },
  {
   "cell_type": "code",
   "execution_count": 23,
   "metadata": {},
   "outputs": [],
   "source": [
    "train_features = make_dataset(train_features)\n",
    "test_features = make_dataset(test_features)"
   ]
  },
  {
   "cell_type": "code",
   "execution_count": 26,
   "metadata": {},
   "outputs": [],
   "source": [
    "train_features_sj = train_features[\n",
    "    train_features['city'] == 'sj'\n",
    "].drop('city', axis = 1)\n",
    "train_features_iq = train_features[\n",
    "    train_features['city'] == 'iq'\n",
    "].drop('city', axis = 1)\n",
    "\n",
    "y_train_sj = train_labels[\n",
    "    train_labels['city'] == 'sj'\n",
    "]['total_cases'].astype('float')\n",
    "y_train_iq = train_labels[\n",
    "    train_labels['city'] == 'iq'\n",
    "]['total_cases'].astype('float')\n",
    "\n",
    "test_features_sj = test_features[\n",
    "    test_features['city'] == 'sj'\n",
    "].drop('city', axis = 1)\n",
    "test_features_iq = test_features[\n",
    "    test_features['city'] == 'iq'\n",
    "].drop('city', axis = 1)"
   ]
  },
  {
   "cell_type": "markdown",
   "metadata": {},
   "source": [
    "## Correlations"
   ]
  },
  {
   "cell_type": "markdown",
   "metadata": {},
   "source": [
    "### San Juan"
   ]
  },
  {
   "cell_type": "code",
   "execution_count": 50,
   "metadata": {},
   "outputs": [],
   "source": [
    "sj_corrs = train_features_sj.corrwith(y_train_sj).abs().sort_values()"
   ]
  },
  {
   "cell_type": "code",
   "execution_count": 64,
   "metadata": {},
   "outputs": [
    {
     "data": {
      "text/plain": [
       "lag30_reanalysis_max_air_temp_k                0.278465\n",
       "lag5_reanalysis_avg_temp_k                     0.278470\n",
       "lag30_reanalysis_specific_humidity_g_per_kg    0.278698\n",
       "lag11_reanalysis_max_air_temp_k                0.279157\n",
       "lag38_reanalysis_avg_temp_k                    0.280345\n",
       "lag11_reanalysis_specific_humidity_g_per_kg    0.280538\n",
       "lag3_station_avg_temp_c                        0.281353\n",
       "lag36_station_min_temp_c                       0.282095\n",
       "lag36_reanalysis_min_air_temp_k                0.282417\n",
       "lag37_station_avg_temp_c                       0.282919\n",
       "lag5_reanalysis_max_air_temp_k                 0.283155\n",
       "lag11_reanalysis_min_air_temp_k                0.283252\n",
       "lag4_reanalysis_specific_humidity_g_per_kg     0.283265\n",
       "lag32_reanalysis_min_air_temp_k                0.284112\n",
       "lag5_station_max_temp_c                        0.284696\n",
       "lag36_station_avg_temp_c                       0.284853\n",
       "lag35_reanalysis_min_air_temp_k                0.285153\n",
       "lag34_reanalysis_min_air_temp_k                0.285298\n",
       "lag37_reanalysis_specific_humidity_g_per_kg    0.286180\n",
       "lag10_reanalysis_max_air_temp_k                0.288026\n",
       "lag10_reanalysis_avg_temp_k                    0.288035\n",
       "lag33_reanalysis_min_air_temp_k                0.288088\n",
       "lag30_reanalysis_avg_temp_k                    0.288397\n",
       "lag16_station_max_temp_c                       0.288589\n",
       "lag6_reanalysis_avg_temp_k                     0.289049\n",
       "lag9_reanalysis_max_air_temp_k                 0.290086\n",
       "lag5_reanalysis_min_air_temp_k                 0.290522\n",
       "lag38_reanalysis_max_air_temp_k                0.290906\n",
       "lag15_station_min_temp_c                       0.291185\n",
       "lag16_station_avg_temp_c                       0.292496\n",
       "lag10_reanalysis_min_air_temp_k                0.293329\n",
       "lag5_reanalysis_specific_humidity_g_per_kg     0.293621\n",
       "lag6_reanalysis_max_air_temp_k                 0.293848\n",
       "lag10_reanalysis_specific_humidity_g_per_kg    0.294430\n",
       "lag9_reanalysis_avg_temp_k                     0.295130\n",
       "lag31_reanalysis_specific_humidity_g_per_kg    0.295530\n",
       "lag15_station_max_temp_c                       0.295662\n",
       "lag7_reanalysis_avg_temp_k                     0.296065\n",
       "lag14_station_max_temp_c                       0.297383\n",
       "lag37_reanalysis_avg_temp_k                    0.297993\n",
       "lag8_reanalysis_max_air_temp_k                 0.298732\n",
       "lag36_reanalysis_specific_humidity_g_per_kg    0.299295\n",
       "lag7_reanalysis_max_air_temp_k                 0.299351\n",
       "lag8_reanalysis_avg_temp_k                     0.299456\n",
       "lag6_station_max_temp_c                        0.299756\n",
       "lag4_station_min_temp_c                        0.300032\n",
       "lag6_reanalysis_specific_humidity_g_per_kg     0.300101\n",
       "lag6_reanalysis_min_air_temp_k                 0.300240\n",
       "lag31_reanalysis_max_air_temp_k                0.300370\n",
       "lag7_reanalysis_specific_humidity_g_per_kg     0.302522\n",
       "dtype: float64"
      ]
     },
     "execution_count": 64,
     "metadata": {},
     "output_type": "execute_result"
    }
   ],
   "source": [
    "sj_corrs.iloc[-100:-50]"
   ]
  },
  {
   "cell_type": "code",
   "execution_count": 54,
   "metadata": {},
   "outputs": [
    {
     "data": {
      "text/plain": [
       "lag9_reanalysis_specific_humidity_g_per_kg     0.303438\n",
       "lag31_reanalysis_avg_temp_k                    0.303769\n",
       "lag37_reanalysis_max_air_temp_k                0.303802\n",
       "lag9_reanalysis_min_air_temp_k                 0.303842\n",
       "lag7_station_max_temp_c                        0.304182\n",
       "lag35_reanalysis_specific_humidity_g_per_kg    0.304631\n",
       "lag32_reanalysis_specific_humidity_g_per_kg    0.306225\n",
       "lag7_reanalysis_min_air_temp_k                 0.306642\n",
       "lag8_reanalysis_specific_humidity_g_per_kg     0.306698\n",
       "lag36_reanalysis_avg_temp_k                    0.306987\n",
       "lag4_station_avg_temp_c                        0.307308\n",
       "lag8_reanalysis_min_air_temp_k                 0.307353\n",
       "lag35_reanalysis_avg_temp_k                    0.308285\n",
       "lag13_station_max_temp_c                       0.309248\n",
       "lag36_reanalysis_max_air_temp_k                0.310781\n",
       "lag34_reanalysis_avg_temp_k                    0.311027\n",
       "lag34_reanalysis_specific_humidity_g_per_kg    0.311068\n",
       "lag14_station_min_temp_c                       0.311678\n",
       "lag32_reanalysis_max_air_temp_k                0.311756\n",
       "lag9_station_max_temp_c                        0.311937\n",
       "lag32_reanalysis_avg_temp_k                    0.312209\n",
       "lag33_reanalysis_specific_humidity_g_per_kg    0.312454\n",
       "lag15_station_avg_temp_c                       0.313318\n",
       "lag8_station_max_temp_c                        0.313354\n",
       "lag35_reanalysis_max_air_temp_k                0.314453\n",
       "lag33_reanalysis_avg_temp_k                    0.316068\n",
       "lag10_station_max_temp_c                       0.316534\n",
       "lag34_reanalysis_max_air_temp_k                0.319916\n",
       "lag33_reanalysis_max_air_temp_k                0.320935\n",
       "lag12_station_max_temp_c                       0.320937\n",
       "lag11_station_max_temp_c                       0.321299\n",
       "lag5_station_min_temp_c                        0.324303\n",
       "lag14_station_avg_temp_c                       0.329412\n",
       "lag13_station_min_temp_c                       0.330356\n",
       "lag5_station_avg_temp_c                        0.331017\n",
       "lag6_station_min_temp_c                        0.340497\n",
       "lag6_station_avg_temp_c                        0.346101\n",
       "lag13_station_avg_temp_c                       0.347157\n",
       "lag12_station_min_temp_c                       0.348035\n",
       "lag7_station_min_temp_c                        0.350326\n",
       "lag8_station_min_temp_c                        0.356645\n",
       "lag11_station_min_temp_c                       0.358158\n",
       "lag7_station_avg_temp_c                        0.359118\n",
       "lag12_station_avg_temp_c                       0.363207\n",
       "lag9_station_min_temp_c                        0.363591\n",
       "lag10_station_min_temp_c                       0.366933\n",
       "lag8_station_avg_temp_c                        0.367283\n",
       "lag11_station_avg_temp_c                       0.368983\n",
       "lag9_station_avg_temp_c                        0.371134\n",
       "lag10_station_avg_temp_c                       0.373250\n",
       "dtype: float64"
      ]
     },
     "execution_count": 54,
     "metadata": {},
     "output_type": "execute_result"
    }
   ],
   "source": [
    "sj_corrs.tail(50)"
   ]
  },
  {
   "cell_type": "markdown",
   "metadata": {},
   "source": [
    "These are uniformly higher than the correlations for the variables in \n",
    "the original exploration notebook (highest was ~0.28). We thus probably could build a much\n",
    "better model by using these features and experimenting with how many to include"
   ]
  },
  {
   "cell_type": "markdown",
   "metadata": {},
   "source": [
    "### Iquitos"
   ]
  },
  {
   "cell_type": "code",
   "execution_count": 55,
   "metadata": {},
   "outputs": [],
   "source": [
    "iq_corrs = train_features_iq.corrwith(y_train_iq).abs().sort_values()"
   ]
  },
  {
   "cell_type": "code",
   "execution_count": 62,
   "metadata": {},
   "outputs": [
    {
     "data": {
      "text/plain": [
       "lag45_reanalysis_specific_humidity_g_per_kg    0.183175\n",
       "lag40_ndvi_se                                  0.184816\n",
       "lag45_ndvi_se                                  0.184969\n",
       "lag49_station_precip_mm                        0.185129\n",
       "lag29_station_diur_temp_rng_c                  0.185376\n",
       "lag5_reanalysis_specific_humidity_g_per_kg     0.185544\n",
       "lag24_reanalysis_min_air_temp_k                0.185998\n",
       "lag30_station_diur_temp_rng_c                  0.187065\n",
       "lag41_station_diur_temp_rng_c                  0.187127\n",
       "lag48_station_precip_mm                        0.187663\n",
       "lag45_precipitation_amt_mm                     0.187777\n",
       "lag39_reanalysis_max_air_temp_k                0.188046\n",
       "lag1_reanalysis_min_air_temp_k                 0.188151\n",
       "lag49_reanalysis_precip_amt_kg_per_m2          0.188209\n",
       "lag31_station_max_temp_c                       0.188656\n",
       "lag3_reanalysis_min_air_temp_k                 0.189832\n",
       "lag5_reanalysis_min_air_temp_k                 0.190152\n",
       "lag44_reanalysis_specific_humidity_g_per_kg    0.190754\n",
       "lag46_reanalysis_min_air_temp_k                0.191039\n",
       "lag31_station_diur_temp_rng_c                  0.191608\n",
       "lag24_station_avg_temp_c                       0.192002\n",
       "lag35_ndvi_se                                  0.192029\n",
       "lag34_reanalysis_max_air_temp_k                0.192262\n",
       "lag51_reanalysis_precip_amt_kg_per_m2          0.192626\n",
       "lag46_station_precip_mm                        0.193248\n",
       "lag19_station_min_temp_c                       0.194509\n",
       "lag2_station_min_temp_c                        0.194627\n",
       "lag50_station_precip_mm                        0.195220\n",
       "lag49_station_avg_temp_c                       0.195420\n",
       "lag32_reanalysis_max_air_temp_k                0.196899\n",
       "lag39_station_diur_temp_rng_c                  0.197357\n",
       "lag40_station_diur_temp_rng_c                  0.197898\n",
       "lag42_station_diur_temp_rng_c                  0.198310\n",
       "lag33_ndvi_se                                  0.198382\n",
       "lag50_reanalysis_precip_amt_kg_per_m2          0.198858\n",
       "lag45_station_min_temp_c                       0.199414\n",
       "lag41_ndvi_se                                  0.203166\n",
       "lag44_station_min_temp_c                       0.203271\n",
       "lag44_ndvi_se                                  0.204295\n",
       "lag31_reanalysis_max_air_temp_k                0.204722\n",
       "lag2_reanalysis_min_air_temp_k                 0.204745\n",
       "lag23_station_avg_temp_c                       0.204779\n",
       "lag18_station_min_temp_c                       0.205085\n",
       "lag50_station_avg_temp_c                       0.205111\n",
       "lag3_reanalysis_specific_humidity_g_per_kg     0.207027\n",
       "lag33_reanalysis_max_air_temp_k                0.207854\n",
       "lag44_station_avg_temp_c                       0.208510\n",
       "lag52_precipitation_amt_mm                     0.209033\n",
       "station_min_temp_c                             0.209195\n",
       "lag45_station_avg_temp_c                       0.209213\n",
       "dtype: float64"
      ]
     },
     "execution_count": 62,
     "metadata": {},
     "output_type": "execute_result"
    }
   ],
   "source": [
    "iq_corrs.iloc[-100:-50]"
   ]
  },
  {
   "cell_type": "code",
   "execution_count": 63,
   "metadata": {},
   "outputs": [
    {
     "data": {
      "text/plain": [
       "lag35_station_diur_temp_rng_c                  0.209225\n",
       "lag48_station_avg_temp_c                       0.209651\n",
       "lag1_station_min_temp_c                        0.210040\n",
       "reanalysis_min_air_temp_k                      0.212263\n",
       "lag36_station_diur_temp_rng_c                  0.214904\n",
       "lag37_station_diur_temp_rng_c                  0.216953\n",
       "lag47_station_avg_temp_c                       0.218238\n",
       "lag51_reanalysis_min_air_temp_k                0.218854\n",
       "lag47_reanalysis_min_air_temp_k                0.219681\n",
       "lag35_reanalysis_max_air_temp_k                0.219899\n",
       "lag2_reanalysis_specific_humidity_g_per_kg     0.221102\n",
       "lag38_station_diur_temp_rng_c                  0.222043\n",
       "lag38_reanalysis_max_air_temp_k                0.222481\n",
       "lag52_station_min_temp_c                       0.223038\n",
       "lag52_reanalysis_precip_amt_kg_per_m2          0.223965\n",
       "lag46_station_avg_temp_c                       0.224625\n",
       "lag50_precipitation_amt_mm                     0.224631\n",
       "lag51_station_min_temp_c                       0.225353\n",
       "lag1_reanalysis_specific_humidity_g_per_kg     0.225773\n",
       "lag49_precipitation_amt_mm                     0.227033\n",
       "lag24_station_min_temp_c                       0.227370\n",
       "lag34_ndvi_se                                  0.231227\n",
       "lag37_reanalysis_max_air_temp_k                0.231564\n",
       "lag36_ndvi_se                                  0.233353\n",
       "lag51_precipitation_amt_mm                     0.234537\n",
       "lag51_station_avg_temp_c                       0.234705\n",
       "lag36_reanalysis_max_air_temp_k                0.234831\n",
       "reanalysis_specific_humidity_g_per_kg          0.235131\n",
       "lag23_station_min_temp_c                       0.235435\n",
       "lag46_reanalysis_specific_humidity_g_per_kg    0.237330\n",
       "lag52_reanalysis_min_air_temp_k                0.237827\n",
       "lag47_precipitation_amt_mm                     0.239845\n",
       "lag48_reanalysis_min_air_temp_k                0.240501\n",
       "lag37_ndvi_se                                  0.240739\n",
       "lag50_reanalysis_min_air_temp_k                0.245904\n",
       "lag46_station_min_temp_c                       0.245945\n",
       "lag49_reanalysis_min_air_temp_k                0.246786\n",
       "lag46_precipitation_amt_mm                     0.248412\n",
       "lag50_station_min_temp_c                       0.249222\n",
       "lag48_precipitation_amt_mm                     0.249325\n",
       "lag49_station_min_temp_c                       0.253315\n",
       "lag48_station_min_temp_c                       0.256128\n",
       "lag52_station_avg_temp_c                       0.256197\n",
       "lag47_station_min_temp_c                       0.258041\n",
       "lag50_reanalysis_specific_humidity_g_per_kg    0.269679\n",
       "lag49_reanalysis_specific_humidity_g_per_kg    0.273437\n",
       "lag52_reanalysis_specific_humidity_g_per_kg    0.275647\n",
       "lag48_reanalysis_specific_humidity_g_per_kg    0.275683\n",
       "lag47_reanalysis_specific_humidity_g_per_kg    0.276706\n",
       "lag51_reanalysis_specific_humidity_g_per_kg    0.280272\n",
       "dtype: float64"
      ]
     },
     "execution_count": 63,
     "metadata": {},
     "output_type": "execute_result"
    }
   ],
   "source": [
    "iq_corrs.iloc[-50:]"
   ]
  }
 ],
 "metadata": {
  "kernelspec": {
   "display_name": "denguai",
   "language": "python",
   "name": "denguai"
  },
  "language_info": {
   "codemirror_mode": {
    "name": "ipython",
    "version": 3
   },
   "file_extension": ".py",
   "mimetype": "text/x-python",
   "name": "python",
   "nbconvert_exporter": "python",
   "pygments_lexer": "ipython3",
   "version": "3.8.1"
  }
 },
 "nbformat": 4,
 "nbformat_minor": 4
}
