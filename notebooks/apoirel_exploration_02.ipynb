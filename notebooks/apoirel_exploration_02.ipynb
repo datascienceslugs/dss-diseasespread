{
 "cells": [
  {
   "cell_type": "markdown",
   "metadata": {},
   "source": [
    "# Lagged Features Exploration\n",
    "\n",
    "Papers I've read seem to indicate that features far in the past have an impact. What if we built features \n",
    "for many lags and selected those with the highest correlation with our target?"
   ]
  },
  {
   "cell_type": "code",
   "execution_count": 1,
   "metadata": {},
   "outputs": [],
   "source": [
    "import pandas as pd\n",
    "import numpy as np\n",
    "import matplotlib as mpl\n",
    "import matplotlib.pyplot as plt\n",
    "import seaborn as sns\n",
    "import os"
   ]
  },
  {
   "cell_type": "code",
   "execution_count": 3,
   "metadata": {},
   "outputs": [
    {
     "name": "stdout",
     "output_type": "stream",
     "text": [
      "C:\\Users\\Anders\\Documents\\data-science-projects\\dss-diseasespread\n"
     ]
    }
   ],
   "source": [
    "cd .."
   ]
  },
  {
   "cell_type": "code",
   "execution_count": 14,
   "metadata": {},
   "outputs": [],
   "source": [
    "mpl.rcParams.update({\n",
    "    'figure.autolayout': True,\n",
    "    'figure.dpi': 150\n",
    "})\n",
    "sns.set()"
   ]
  },
  {
   "cell_type": "markdown",
   "metadata": {},
   "source": [
    "## Reading the data"
   ]
  },
  {
   "cell_type": "code",
   "execution_count": 13,
   "metadata": {},
   "outputs": [],
   "source": [
    "RAW_PATH = 'data/raw'"
   ]
  },
  {
   "cell_type": "code",
   "execution_count": 15,
   "metadata": {},
   "outputs": [],
   "source": [
    "train_features = pd.read_csv(\n",
    "    os.path.join(RAW_PATH, 'dengue_features_train.csv')\n",
    ")\n",
    "train_labels = pd.read_csv(\n",
    "    os.path.join(RAW_PATH, 'dengue_labels_train.csv')\n",
    ")\n",
    "test_features = pd.read_csv(\n",
    "    os.path.join(RAW_PATH, 'dengue_features_test.csv')\n",
    ")"
   ]
  },
  {
   "cell_type": "markdown",
   "metadata": {},
   "source": [
    "## Lagged Features"
   ]
  },
  {
   "cell_type": "code",
   "execution_count": 22,
   "metadata": {},
   "outputs": [],
   "source": [
    "def make_dataset(features):\n",
    "    features = (features\n",
    "        .drop( # correlated features\n",
    "            ['reanalysis_sat_precip_amt_mm', 'reanalysis_dew_point_temp_k', \n",
    "             'reanalysis_air_temp_k', 'reanalysis_tdtr_k'],\n",
    "            axis = 1\n",
    "        )\n",
    "        .fillna(method = 'backfill')\n",
    "        .drop( # unused features\n",
    "            ['year', 'weekofyear','week_start_date'], \n",
    "            axis = 1\n",
    "        )\n",
    "    )\n",
    "    ts_features = list(features.loc[:, 'ndvi_ne' :].columns.values)\n",
    "\n",
    "    features_sj = features[\n",
    "        features['city'] == 'sj']\n",
    "    features_iq = features[\n",
    "        features['city'] == 'iq']\n",
    "\n",
    "    features_sj = add_lagged_features(\n",
    "        features_sj, 52, ts_features).fillna(method = 'backfill')\n",
    "    features_iq = add_lagged_features(\n",
    "        features_iq, 52, ts_features).fillna(method = 'backfill')\n",
    "\n",
    "    features = pd.concat([features_sj, features_iq], axis = 0)\n",
    "\n",
    "    return features"
   ]
  },
  {
   "cell_type": "code",
   "execution_count": 23,
   "metadata": {},
   "outputs": [],
   "source": [
    "train_features = make_dataset(train_features)\n",
    "test_features = make_dataset(test_features)"
   ]
  },
  {
   "cell_type": "code",
   "execution_count": 26,
   "metadata": {},
   "outputs": [],
   "source": [
    "train_features_sj = train_features[\n",
    "    train_features['city'] == 'sj'\n",
    "].drop('city', axis = 1)\n",
    "train_features_iq = train_features[\n",
    "    train_features['city'] == 'iq'\n",
    "].drop('city', axis = 1)\n",
    "\n",
    "y_train_sj = train_labels[\n",
    "    train_labels['city'] == 'sj'\n",
    "]['total_cases'].astype('float')\n",
    "y_train_iq = train_labels[\n",
    "    train_labels['city'] == 'iq'\n",
    "]['total_cases'].astype('float')\n",
    "\n",
    "test_features_sj = test_features[\n",
    "    test_features['city'] == 'sj'\n",
    "].drop('city', axis = 1)\n",
    "test_features_iq = test_features[\n",
    "    test_features['city'] == 'iq'\n",
    "].drop('city', axis = 1)"
   ]
  },
  {
   "cell_type": "markdown",
   "metadata": {},
   "source": [
    "## Correlations"
   ]
  },
  {
   "cell_type": "markdown",
   "metadata": {},
   "source": [
    "We find the features with the highest correlation to the target"
   ]
  },
  {
   "cell_type": "markdown",
   "metadata": {},
   "source": [
    "### San Juan"
   ]
  },
  {
   "cell_type": "code",
   "execution_count": 50,
   "metadata": {},
   "outputs": [],
   "source": [
    "sj_corrs = train_features_sj.corrwith(y_train_sj).abs().sort_values()"
   ]
  },
  {
   "cell_type": "code",
   "execution_count": 108,
   "metadata": {},
   "outputs": [
    {
     "data": {
      "text/plain": [
       "lag30_reanalysis_max_air_temp_k                0.278465\n",
       "lag5_reanalysis_avg_temp_k                     0.278470\n",
       "lag30_reanalysis_specific_humidity_g_per_kg    0.278698\n",
       "lag11_reanalysis_max_air_temp_k                0.279157\n",
       "lag38_reanalysis_avg_temp_k                    0.280345\n",
       "lag11_reanalysis_specific_humidity_g_per_kg    0.280538\n",
       "lag3_station_avg_temp_c                        0.281353\n",
       "lag36_station_min_temp_c                       0.282095\n",
       "lag36_reanalysis_min_air_temp_k                0.282417\n",
       "lag37_station_avg_temp_c                       0.282919\n",
       "lag5_reanalysis_max_air_temp_k                 0.283155\n",
       "lag11_reanalysis_min_air_temp_k                0.283252\n",
       "lag4_reanalysis_specific_humidity_g_per_kg     0.283265\n",
       "lag32_reanalysis_min_air_temp_k                0.284112\n",
       "lag5_station_max_temp_c                        0.284696\n",
       "lag36_station_avg_temp_c                       0.284853\n",
       "lag35_reanalysis_min_air_temp_k                0.285153\n",
       "lag34_reanalysis_min_air_temp_k                0.285298\n",
       "lag37_reanalysis_specific_humidity_g_per_kg    0.286180\n",
       "lag10_reanalysis_max_air_temp_k                0.288026\n",
       "lag10_reanalysis_avg_temp_k                    0.288035\n",
       "lag33_reanalysis_min_air_temp_k                0.288088\n",
       "lag30_reanalysis_avg_temp_k                    0.288397\n",
       "lag16_station_max_temp_c                       0.288589\n",
       "lag6_reanalysis_avg_temp_k                     0.289049\n",
       "lag9_reanalysis_max_air_temp_k                 0.290086\n",
       "lag5_reanalysis_min_air_temp_k                 0.290522\n",
       "lag38_reanalysis_max_air_temp_k                0.290906\n",
       "lag15_station_min_temp_c                       0.291185\n",
       "lag16_station_avg_temp_c                       0.292496\n",
       "lag10_reanalysis_min_air_temp_k                0.293329\n",
       "lag5_reanalysis_specific_humidity_g_per_kg     0.293621\n",
       "lag6_reanalysis_max_air_temp_k                 0.293848\n",
       "lag10_reanalysis_specific_humidity_g_per_kg    0.294430\n",
       "lag9_reanalysis_avg_temp_k                     0.295130\n",
       "lag31_reanalysis_specific_humidity_g_per_kg    0.295530\n",
       "lag15_station_max_temp_c                       0.295662\n",
       "lag7_reanalysis_avg_temp_k                     0.296065\n",
       "lag14_station_max_temp_c                       0.297383\n",
       "lag37_reanalysis_avg_temp_k                    0.297993\n",
       "lag8_reanalysis_max_air_temp_k                 0.298732\n",
       "lag36_reanalysis_specific_humidity_g_per_kg    0.299295\n",
       "lag7_reanalysis_max_air_temp_k                 0.299351\n",
       "lag8_reanalysis_avg_temp_k                     0.299456\n",
       "lag6_station_max_temp_c                        0.299756\n",
       "lag4_station_min_temp_c                        0.300032\n",
       "lag6_reanalysis_specific_humidity_g_per_kg     0.300101\n",
       "lag6_reanalysis_min_air_temp_k                 0.300240\n",
       "lag31_reanalysis_max_air_temp_k                0.300370\n",
       "lag7_reanalysis_specific_humidity_g_per_kg     0.302522\n",
       "dtype: float64"
      ]
     },
     "execution_count": 108,
     "metadata": {},
     "output_type": "execute_result"
    }
   ],
   "source": [
    "sj_corrs.iloc[-100: -50]"
   ]
  },
  {
   "cell_type": "code",
   "execution_count": 54,
   "metadata": {},
   "outputs": [
    {
     "data": {
      "text/plain": [
       "lag9_reanalysis_specific_humidity_g_per_kg     0.303438\n",
       "lag31_reanalysis_avg_temp_k                    0.303769\n",
       "lag37_reanalysis_max_air_temp_k                0.303802\n",
       "lag9_reanalysis_min_air_temp_k                 0.303842\n",
       "lag7_station_max_temp_c                        0.304182\n",
       "lag35_reanalysis_specific_humidity_g_per_kg    0.304631\n",
       "lag32_reanalysis_specific_humidity_g_per_kg    0.306225\n",
       "lag7_reanalysis_min_air_temp_k                 0.306642\n",
       "lag8_reanalysis_specific_humidity_g_per_kg     0.306698\n",
       "lag36_reanalysis_avg_temp_k                    0.306987\n",
       "lag4_station_avg_temp_c                        0.307308\n",
       "lag8_reanalysis_min_air_temp_k                 0.307353\n",
       "lag35_reanalysis_avg_temp_k                    0.308285\n",
       "lag13_station_max_temp_c                       0.309248\n",
       "lag36_reanalysis_max_air_temp_k                0.310781\n",
       "lag34_reanalysis_avg_temp_k                    0.311027\n",
       "lag34_reanalysis_specific_humidity_g_per_kg    0.311068\n",
       "lag14_station_min_temp_c                       0.311678\n",
       "lag32_reanalysis_max_air_temp_k                0.311756\n",
       "lag9_station_max_temp_c                        0.311937\n",
       "lag32_reanalysis_avg_temp_k                    0.312209\n",
       "lag33_reanalysis_specific_humidity_g_per_kg    0.312454\n",
       "lag15_station_avg_temp_c                       0.313318\n",
       "lag8_station_max_temp_c                        0.313354\n",
       "lag35_reanalysis_max_air_temp_k                0.314453\n",
       "lag33_reanalysis_avg_temp_k                    0.316068\n",
       "lag10_station_max_temp_c                       0.316534\n",
       "lag34_reanalysis_max_air_temp_k                0.319916\n",
       "lag33_reanalysis_max_air_temp_k                0.320935\n",
       "lag12_station_max_temp_c                       0.320937\n",
       "lag11_station_max_temp_c                       0.321299\n",
       "lag5_station_min_temp_c                        0.324303\n",
       "lag14_station_avg_temp_c                       0.329412\n",
       "lag13_station_min_temp_c                       0.330356\n",
       "lag5_station_avg_temp_c                        0.331017\n",
       "lag6_station_min_temp_c                        0.340497\n",
       "lag6_station_avg_temp_c                        0.346101\n",
       "lag13_station_avg_temp_c                       0.347157\n",
       "lag12_station_min_temp_c                       0.348035\n",
       "lag7_station_min_temp_c                        0.350326\n",
       "lag8_station_min_temp_c                        0.356645\n",
       "lag11_station_min_temp_c                       0.358158\n",
       "lag7_station_avg_temp_c                        0.359118\n",
       "lag12_station_avg_temp_c                       0.363207\n",
       "lag9_station_min_temp_c                        0.363591\n",
       "lag10_station_min_temp_c                       0.366933\n",
       "lag8_station_avg_temp_c                        0.367283\n",
       "lag11_station_avg_temp_c                       0.368983\n",
       "lag9_station_avg_temp_c                        0.371134\n",
       "lag10_station_avg_temp_c                       0.373250\n",
       "dtype: float64"
      ]
     },
     "execution_count": 54,
     "metadata": {},
     "output_type": "execute_result"
    }
   ],
   "source": [
    "sj_corrs.iloc[-50]"
   ]
  },
  {
   "cell_type": "markdown",
   "metadata": {},
   "source": [
    "These are uniformly higher than the correlations for the variables in \n",
    "the original exploration notebook (highest was ~0.28). We thus probably could build a much\n",
    "better model by using these features and experimenting with how many to include"
   ]
  },
  {
   "cell_type": "markdown",
   "metadata": {},
   "source": [
    "### Iquitos"
   ]
  },
  {
   "cell_type": "code",
   "execution_count": 55,
   "metadata": {},
   "outputs": [],
   "source": [
    "iq_corrs = train_features_iq.corrwith(y_train_iq).abs().sort_values()"
   ]
  },
  {
   "cell_type": "code",
   "execution_count": 62,
   "metadata": {},
   "outputs": [
    {
     "data": {
      "text/plain": [
       "lag45_reanalysis_specific_humidity_g_per_kg    0.183175\n",
       "lag40_ndvi_se                                  0.184816\n",
       "lag45_ndvi_se                                  0.184969\n",
       "lag49_station_precip_mm                        0.185129\n",
       "lag29_station_diur_temp_rng_c                  0.185376\n",
       "lag5_reanalysis_specific_humidity_g_per_kg     0.185544\n",
       "lag24_reanalysis_min_air_temp_k                0.185998\n",
       "lag30_station_diur_temp_rng_c                  0.187065\n",
       "lag41_station_diur_temp_rng_c                  0.187127\n",
       "lag48_station_precip_mm                        0.187663\n",
       "lag45_precipitation_amt_mm                     0.187777\n",
       "lag39_reanalysis_max_air_temp_k                0.188046\n",
       "lag1_reanalysis_min_air_temp_k                 0.188151\n",
       "lag49_reanalysis_precip_amt_kg_per_m2          0.188209\n",
       "lag31_station_max_temp_c                       0.188656\n",
       "lag3_reanalysis_min_air_temp_k                 0.189832\n",
       "lag5_reanalysis_min_air_temp_k                 0.190152\n",
       "lag44_reanalysis_specific_humidity_g_per_kg    0.190754\n",
       "lag46_reanalysis_min_air_temp_k                0.191039\n",
       "lag31_station_diur_temp_rng_c                  0.191608\n",
       "lag24_station_avg_temp_c                       0.192002\n",
       "lag35_ndvi_se                                  0.192029\n",
       "lag34_reanalysis_max_air_temp_k                0.192262\n",
       "lag51_reanalysis_precip_amt_kg_per_m2          0.192626\n",
       "lag46_station_precip_mm                        0.193248\n",
       "lag19_station_min_temp_c                       0.194509\n",
       "lag2_station_min_temp_c                        0.194627\n",
       "lag50_station_precip_mm                        0.195220\n",
       "lag49_station_avg_temp_c                       0.195420\n",
       "lag32_reanalysis_max_air_temp_k                0.196899\n",
       "lag39_station_diur_temp_rng_c                  0.197357\n",
       "lag40_station_diur_temp_rng_c                  0.197898\n",
       "lag42_station_diur_temp_rng_c                  0.198310\n",
       "lag33_ndvi_se                                  0.198382\n",
       "lag50_reanalysis_precip_amt_kg_per_m2          0.198858\n",
       "lag45_station_min_temp_c                       0.199414\n",
       "lag41_ndvi_se                                  0.203166\n",
       "lag44_station_min_temp_c                       0.203271\n",
       "lag44_ndvi_se                                  0.204295\n",
       "lag31_reanalysis_max_air_temp_k                0.204722\n",
       "lag2_reanalysis_min_air_temp_k                 0.204745\n",
       "lag23_station_avg_temp_c                       0.204779\n",
       "lag18_station_min_temp_c                       0.205085\n",
       "lag50_station_avg_temp_c                       0.205111\n",
       "lag3_reanalysis_specific_humidity_g_per_kg     0.207027\n",
       "lag33_reanalysis_max_air_temp_k                0.207854\n",
       "lag44_station_avg_temp_c                       0.208510\n",
       "lag52_precipitation_amt_mm                     0.209033\n",
       "station_min_temp_c                             0.209195\n",
       "lag45_station_avg_temp_c                       0.209213\n",
       "dtype: float64"
      ]
     },
     "execution_count": 62,
     "metadata": {},
     "output_type": "execute_result"
    }
   ],
   "source": [
    "iq_corrs.iloc[-100:-50]"
   ]
  },
  {
   "cell_type": "code",
   "execution_count": 63,
   "metadata": {},
   "outputs": [
    {
     "data": {
      "text/plain": [
       "lag35_station_diur_temp_rng_c                  0.209225\n",
       "lag48_station_avg_temp_c                       0.209651\n",
       "lag1_station_min_temp_c                        0.210040\n",
       "reanalysis_min_air_temp_k                      0.212263\n",
       "lag36_station_diur_temp_rng_c                  0.214904\n",
       "lag37_station_diur_temp_rng_c                  0.216953\n",
       "lag47_station_avg_temp_c                       0.218238\n",
       "lag51_reanalysis_min_air_temp_k                0.218854\n",
       "lag47_reanalysis_min_air_temp_k                0.219681\n",
       "lag35_reanalysis_max_air_temp_k                0.219899\n",
       "lag2_reanalysis_specific_humidity_g_per_kg     0.221102\n",
       "lag38_station_diur_temp_rng_c                  0.222043\n",
       "lag38_reanalysis_max_air_temp_k                0.222481\n",
       "lag52_station_min_temp_c                       0.223038\n",
       "lag52_reanalysis_precip_amt_kg_per_m2          0.223965\n",
       "lag46_station_avg_temp_c                       0.224625\n",
       "lag50_precipitation_amt_mm                     0.224631\n",
       "lag51_station_min_temp_c                       0.225353\n",
       "lag1_reanalysis_specific_humidity_g_per_kg     0.225773\n",
       "lag49_precipitation_amt_mm                     0.227033\n",
       "lag24_station_min_temp_c                       0.227370\n",
       "lag34_ndvi_se                                  0.231227\n",
       "lag37_reanalysis_max_air_temp_k                0.231564\n",
       "lag36_ndvi_se                                  0.233353\n",
       "lag51_precipitation_amt_mm                     0.234537\n",
       "lag51_station_avg_temp_c                       0.234705\n",
       "lag36_reanalysis_max_air_temp_k                0.234831\n",
       "reanalysis_specific_humidity_g_per_kg          0.235131\n",
       "lag23_station_min_temp_c                       0.235435\n",
       "lag46_reanalysis_specific_humidity_g_per_kg    0.237330\n",
       "lag52_reanalysis_min_air_temp_k                0.237827\n",
       "lag47_precipitation_amt_mm                     0.239845\n",
       "lag48_reanalysis_min_air_temp_k                0.240501\n",
       "lag37_ndvi_se                                  0.240739\n",
       "lag50_reanalysis_min_air_temp_k                0.245904\n",
       "lag46_station_min_temp_c                       0.245945\n",
       "lag49_reanalysis_min_air_temp_k                0.246786\n",
       "lag46_precipitation_amt_mm                     0.248412\n",
       "lag50_station_min_temp_c                       0.249222\n",
       "lag48_precipitation_amt_mm                     0.249325\n",
       "lag49_station_min_temp_c                       0.253315\n",
       "lag48_station_min_temp_c                       0.256128\n",
       "lag52_station_avg_temp_c                       0.256197\n",
       "lag47_station_min_temp_c                       0.258041\n",
       "lag50_reanalysis_specific_humidity_g_per_kg    0.269679\n",
       "lag49_reanalysis_specific_humidity_g_per_kg    0.273437\n",
       "lag52_reanalysis_specific_humidity_g_per_kg    0.275647\n",
       "lag48_reanalysis_specific_humidity_g_per_kg    0.275683\n",
       "lag47_reanalysis_specific_humidity_g_per_kg    0.276706\n",
       "lag51_reanalysis_specific_humidity_g_per_kg    0.280272\n",
       "dtype: float64"
      ]
     },
     "execution_count": 63,
     "metadata": {},
     "output_type": "execute_result"
    }
   ],
   "source": [
    "iq_corrs.iloc[-50:]"
   ]
  },
  {
   "cell_type": "markdown",
   "metadata": {},
   "source": [
    "## Mutual information"
   ]
  },
  {
   "cell_type": "markdown",
   "metadata": {},
   "source": [
    "Features with the highest mutual information with the target"
   ]
  },
  {
   "cell_type": "code",
   "execution_count": 66,
   "metadata": {},
   "outputs": [],
   "source": [
    "from sklearn.feature_selection import mutual_info_regression"
   ]
  },
  {
   "cell_type": "markdown",
   "metadata": {},
   "source": [
    "### San Juan"
   ]
  },
  {
   "cell_type": "code",
   "execution_count": 97,
   "metadata": {},
   "outputs": [],
   "source": [
    "sj_minfo = pd.Series(\n",
    "    index = train_features_sj.columns.values,\n",
    "    data = mutual_info_regression(train_features_sj, y_train_sj)\n",
    ").sort_values()"
   ]
  },
  {
   "cell_type": "code",
   "execution_count": 107,
   "metadata": {},
   "outputs": [
    {
     "data": {
      "text/plain": [
       "lag42_reanalysis_avg_temp_k                    0.135430\n",
       "lag16_reanalysis_avg_temp_k                    0.135560\n",
       "lag6_station_min_temp_c                        0.135654\n",
       "lag40_reanalysis_specific_humidity_g_per_kg    0.136368\n",
       "lag12_station_min_temp_c                       0.136571\n",
       "lag40_reanalysis_max_air_temp_k                0.136856\n",
       "lag15_reanalysis_avg_temp_k                    0.137359\n",
       "lag16_reanalysis_max_air_temp_k                0.137399\n",
       "lag38_station_min_temp_c                       0.137546\n",
       "lag40_station_avg_temp_c                       0.137792\n",
       "lag7_reanalysis_max_air_temp_k                 0.138218\n",
       "lag32_reanalysis_max_air_temp_k                0.138631\n",
       "lag34_reanalysis_min_air_temp_k                0.138688\n",
       "lag8_reanalysis_relative_humidity_percent      0.139524\n",
       "lag38_reanalysis_avg_temp_k                    0.140290\n",
       "lag36_reanalysis_min_air_temp_k                0.141517\n",
       "lag35_reanalysis_min_air_temp_k                0.141783\n",
       "lag7_reanalysis_min_air_temp_k                 0.142225\n",
       "lag11_reanalysis_avg_temp_k                    0.142779\n",
       "lag11_station_min_temp_c                       0.142906\n",
       "lag31_reanalysis_min_air_temp_k                0.144094\n",
       "lag12_reanalysis_max_air_temp_k                0.144956\n",
       "lag39_reanalysis_avg_temp_k                    0.146661\n",
       "lag33_reanalysis_specific_humidity_g_per_kg    0.146730\n",
       "lag31_reanalysis_avg_temp_k                    0.146858\n",
       "lag10_reanalysis_max_air_temp_k                0.148583\n",
       "lag31_reanalysis_specific_humidity_g_per_kg    0.148734\n",
       "lag6_reanalysis_avg_temp_k                     0.148851\n",
       "lag8_reanalysis_max_air_temp_k                 0.149457\n",
       "lag37_reanalysis_avg_temp_k                    0.149553\n",
       "lag13_station_min_temp_c                       0.150439\n",
       "lag7_reanalysis_avg_temp_k                     0.150663\n",
       "lag38_station_avg_temp_c                       0.151495\n",
       "lag12_station_max_temp_c                       0.152560\n",
       "lag11_reanalysis_max_air_temp_k                0.153241\n",
       "lag9_reanalysis_min_air_temp_k                 0.153271\n",
       "lag7_station_min_temp_c                        0.154190\n",
       "lag9_station_min_temp_c                        0.154355\n",
       "lag33_reanalysis_avg_temp_k                    0.155789\n",
       "lag35_reanalysis_max_air_temp_k                0.155877\n",
       "lag41_reanalysis_specific_humidity_g_per_kg    0.157737\n",
       "lag36_station_avg_temp_c                       0.159081\n",
       "lag32_reanalysis_avg_temp_k                    0.159930\n",
       "lag32_reanalysis_specific_humidity_g_per_kg    0.161072\n",
       "lag15_station_max_temp_c                       0.161246\n",
       "lag15_station_avg_temp_c                       0.161400\n",
       "lag8_station_min_temp_c                        0.163234\n",
       "lag17_station_avg_temp_c                       0.164144\n",
       "lag14_reanalysis_avg_temp_k                    0.164855\n",
       "lag10_station_min_temp_c                       0.166666\n",
       "dtype: float64"
      ]
     },
     "execution_count": 107,
     "metadata": {},
     "output_type": "execute_result"
    }
   ],
   "source": [
    "sj_minfo.iloc[-100:-50]"
   ]
  },
  {
   "cell_type": "code",
   "execution_count": 99,
   "metadata": {},
   "outputs": [
    {
     "data": {
      "text/plain": [
       "lag41_reanalysis_avg_temp_k                    0.166724\n",
       "lag12_reanalysis_min_air_temp_k                0.166759\n",
       "lag9_reanalysis_avg_temp_k                     0.166874\n",
       "lag7_station_avg_temp_c                        0.167206\n",
       "lag29_reanalysis_avg_temp_k                    0.167386\n",
       "lag16_station_avg_temp_c                       0.169256\n",
       "lag38_reanalysis_specific_humidity_g_per_kg    0.170535\n",
       "lag33_reanalysis_min_air_temp_k                0.170665\n",
       "lag5_reanalysis_specific_humidity_g_per_kg     0.171059\n",
       "lag35_reanalysis_specific_humidity_g_per_kg    0.171304\n",
       "lag32_reanalysis_min_air_temp_k                0.171348\n",
       "lag13_station_max_temp_c                       0.171501\n",
       "lag35_station_avg_temp_c                       0.171514\n",
       "lag14_station_min_temp_c                       0.175234\n",
       "lag7_reanalysis_specific_humidity_g_per_kg     0.176658\n",
       "lag12_reanalysis_avg_temp_k                    0.177178\n",
       "lag14_station_avg_temp_c                       0.177952\n",
       "lag12_reanalysis_specific_humidity_g_per_kg    0.178080\n",
       "lag34_reanalysis_avg_temp_k                    0.178600\n",
       "lag37_reanalysis_specific_humidity_g_per_kg    0.179518\n",
       "lag11_reanalysis_min_air_temp_k                0.181514\n",
       "lag8_reanalysis_avg_temp_k                     0.181734\n",
       "lag18_station_max_temp_c                       0.183365\n",
       "lag40_reanalysis_avg_temp_k                    0.184233\n",
       "lag14_station_max_temp_c                       0.184589\n",
       "lag10_station_avg_temp_c                       0.185791\n",
       "lag15_reanalysis_max_air_temp_k                0.185936\n",
       "lag13_reanalysis_specific_humidity_g_per_kg    0.186792\n",
       "lag12_station_avg_temp_c                       0.187172\n",
       "lag9_reanalysis_specific_humidity_g_per_kg     0.187798\n",
       "lag10_reanalysis_min_air_temp_k                0.189973\n",
       "lag37_reanalysis_max_air_temp_k                0.191918\n",
       "lag8_reanalysis_min_air_temp_k                 0.191975\n",
       "lag36_reanalysis_avg_temp_k                    0.194266\n",
       "lag10_reanalysis_specific_humidity_g_per_kg    0.196080\n",
       "lag13_reanalysis_max_air_temp_k                0.196536\n",
       "lag36_station_min_temp_c                       0.197920\n",
       "lag34_reanalysis_specific_humidity_g_per_kg    0.198418\n",
       "lag6_reanalysis_specific_humidity_g_per_kg     0.202163\n",
       "lag14_reanalysis_max_air_temp_k                0.202957\n",
       "lag35_reanalysis_avg_temp_k                    0.203124\n",
       "lag13_reanalysis_avg_temp_k                    0.205403\n",
       "lag10_reanalysis_avg_temp_k                    0.206899\n",
       "lag8_reanalysis_specific_humidity_g_per_kg     0.218630\n",
       "lag9_station_avg_temp_c                        0.220268\n",
       "lag11_reanalysis_specific_humidity_g_per_kg    0.224393\n",
       "lag11_station_avg_temp_c                       0.234785\n",
       "lag8_station_avg_temp_c                        0.235044\n",
       "lag36_reanalysis_specific_humidity_g_per_kg    0.238125\n",
       "lag13_station_avg_temp_c                       0.277137\n",
       "dtype: float64"
      ]
     },
     "execution_count": 99,
     "metadata": {},
     "output_type": "execute_result"
    }
   ],
   "source": [
    "sj_minfo.iloc[-50:]"
   ]
  },
  {
   "cell_type": "markdown",
   "metadata": {},
   "source": [
    "Reassuringly, many of the same features come out on top, namely  `station_avg_temp` at lags\n",
    "~10-13. `specific_humidity` appears much more frequently in the top features, perhaps suggesting\n",
    "that it has a non-linear relation to the target that correlation does not capture."
   ]
  },
  {
   "cell_type": "markdown",
   "metadata": {},
   "source": [
    "### Iquitos"
   ]
  },
  {
   "cell_type": "code",
   "execution_count": 109,
   "metadata": {},
   "outputs": [],
   "source": [
    "iq_minfo = pd.Series(\n",
    "    index = train_features_iq.columns.values,\n",
    "    data = mutual_info_regression(train_features_iq, y_train_iq)\n",
    ").sort_values()"
   ]
  },
  {
   "cell_type": "code",
   "execution_count": 110,
   "metadata": {},
   "outputs": [
    {
     "data": {
      "text/plain": [
       "lag44_precipitation_amt_mm                     0.132045\n",
       "lag44_station_diur_temp_rng_c                  0.132360\n",
       "lag52_station_precip_mm                        0.132569\n",
       "lag39_ndvi_sw                                  0.132788\n",
       "lag29_station_max_temp_c                       0.133080\n",
       "lag40_ndvi_se                                  0.133098\n",
       "lag46_reanalysis_specific_humidity_g_per_kg    0.133779\n",
       "lag43_station_diur_temp_rng_c                  0.134488\n",
       "lag31_station_max_temp_c                       0.134579\n",
       "lag44_reanalysis_precip_amt_kg_per_m2          0.135684\n",
       "lag52_precipitation_amt_mm                     0.135867\n",
       "lag42_reanalysis_specific_humidity_g_per_kg    0.135982\n",
       "lag46_precipitation_amt_mm                     0.136161\n",
       "lag40_station_precip_mm                        0.136461\n",
       "lag29_station_avg_temp_c                       0.136607\n",
       "lag42_reanalysis_min_air_temp_k                0.136796\n",
       "lag51_station_diur_temp_rng_c                  0.136805\n",
       "lag52_reanalysis_max_air_temp_k                0.137595\n",
       "lag44_reanalysis_avg_temp_k                    0.137848\n",
       "lag50_station_precip_mm                        0.138136\n",
       "lag6_reanalysis_specific_humidity_g_per_kg     0.138229\n",
       "lag48_station_min_temp_c                       0.138489\n",
       "lag47_station_avg_temp_c                       0.138840\n",
       "lag35_reanalysis_min_air_temp_k                0.138858\n",
       "lag32_station_max_temp_c                       0.139809\n",
       "lag49_reanalysis_precip_amt_kg_per_m2          0.139867\n",
       "lag28_reanalysis_avg_temp_k                    0.140116\n",
       "lag50_station_avg_temp_c                       0.140809\n",
       "lag47_reanalysis_precip_amt_kg_per_m2          0.142202\n",
       "lag47_ndvi_nw                                  0.143355\n",
       "lag39_reanalysis_min_air_temp_k                0.143369\n",
       "lag46_station_diur_temp_rng_c                  0.143723\n",
       "lag52_ndvi_nw                                  0.144511\n",
       "lag51_reanalysis_precip_amt_kg_per_m2          0.144969\n",
       "lag40_station_avg_temp_c                       0.144971\n",
       "lag45_station_precip_mm                        0.145698\n",
       "lag47_station_precip_mm                        0.145901\n",
       "lag49_station_max_temp_c                       0.146297\n",
       "lag46_reanalysis_relative_humidity_percent     0.146331\n",
       "lag39_reanalysis_specific_humidity_g_per_kg    0.146977\n",
       "lag51_precipitation_amt_mm                     0.147218\n",
       "lag49_ndvi_nw                                  0.147264\n",
       "lag51_reanalysis_min_air_temp_k                0.147426\n",
       "lag51_reanalysis_avg_temp_k                    0.148122\n",
       "lag42_station_max_temp_c                       0.150559\n",
       "lag51_reanalysis_specific_humidity_g_per_kg    0.150569\n",
       "lag52_reanalysis_precip_amt_kg_per_m2          0.150894\n",
       "lag44_reanalysis_max_air_temp_k                0.154968\n",
       "lag51_station_min_temp_c                       0.155748\n",
       "lag44_reanalysis_specific_humidity_g_per_kg    0.156716\n",
       "dtype: float64"
      ]
     },
     "execution_count": 110,
     "metadata": {},
     "output_type": "execute_result"
    }
   ],
   "source": [
    "iq_minfo.iloc[-100:-50]"
   ]
  },
  {
   "cell_type": "code",
   "execution_count": 111,
   "metadata": {},
   "outputs": [
    {
     "data": {
      "text/plain": [
       "lag46_ndvi_se                                  0.157426\n",
       "lag45_reanalysis_min_air_temp_k                0.157513\n",
       "lag45_ndvi_se                                  0.158437\n",
       "lag32_ndvi_se                                  0.158800\n",
       "lag34_station_diur_temp_rng_c                  0.159060\n",
       "lag50_reanalysis_relative_humidity_percent     0.159649\n",
       "lag45_reanalysis_specific_humidity_g_per_kg    0.160094\n",
       "lag48_reanalysis_min_air_temp_k                0.160129\n",
       "lag48_reanalysis_relative_humidity_percent     0.160412\n",
       "lag44_station_min_temp_c                       0.160641\n",
       "lag52_station_avg_temp_c                       0.160748\n",
       "lag46_reanalysis_min_air_temp_k                0.160928\n",
       "lag42_precipitation_amt_mm                     0.161203\n",
       "lag52_reanalysis_specific_humidity_g_per_kg    0.161619\n",
       "lag39_station_diur_temp_rng_c                  0.162093\n",
       "lag42_reanalysis_relative_humidity_percent     0.162683\n",
       "lag48_station_avg_temp_c                       0.163043\n",
       "lag42_station_avg_temp_c                       0.163112\n",
       "lag46_station_min_temp_c                       0.163574\n",
       "lag52_reanalysis_relative_humidity_percent     0.164937\n",
       "lag52_station_max_temp_c                       0.165841\n",
       "lag50_reanalysis_specific_humidity_g_per_kg    0.167496\n",
       "lag50_reanalysis_avg_temp_k                    0.167555\n",
       "lag3_reanalysis_specific_humidity_g_per_kg     0.168071\n",
       "lag50_reanalysis_min_air_temp_k                0.169657\n",
       "lag45_reanalysis_max_air_temp_k                0.169925\n",
       "lag49_station_avg_temp_c                       0.170146\n",
       "lag47_reanalysis_min_air_temp_k                0.170677\n",
       "lag49_reanalysis_specific_humidity_g_per_kg    0.172195\n",
       "lag36_station_max_temp_c                       0.172304\n",
       "lag45_reanalysis_precip_amt_kg_per_m2          0.172896\n",
       "lag40_station_diur_temp_rng_c                  0.174621\n",
       "lag47_reanalysis_max_air_temp_k                0.175603\n",
       "lag48_ndvi_nw                                  0.176603\n",
       "lag50_station_diur_temp_rng_c                  0.176933\n",
       "lag34_station_max_temp_c                       0.178822\n",
       "lag48_reanalysis_precip_amt_kg_per_m2          0.179849\n",
       "lag51_station_max_temp_c                       0.180793\n",
       "lag47_precipitation_amt_mm                     0.180844\n",
       "lag49_reanalysis_relative_humidity_percent     0.181388\n",
       "lag41_reanalysis_specific_humidity_g_per_kg    0.181992\n",
       "lag45_station_min_temp_c                       0.183788\n",
       "lag47_station_min_temp_c                       0.184963\n",
       "lag43_reanalysis_relative_humidity_percent     0.185199\n",
       "lag45_station_avg_temp_c                       0.185255\n",
       "lag48_reanalysis_specific_humidity_g_per_kg    0.189115\n",
       "lag51_station_avg_temp_c                       0.189908\n",
       "lag52_station_min_temp_c                       0.191435\n",
       "lag49_station_min_temp_c                       0.205515\n",
       "lag38_reanalysis_specific_humidity_g_per_kg    0.205893\n",
       "dtype: float64"
      ]
     },
     "execution_count": 111,
     "metadata": {},
     "output_type": "execute_result"
    }
   ],
   "source": [
    "iq_minfo.iloc[-50:]"
   ]
  },
  {
   "cell_type": "markdown",
   "metadata": {},
   "source": [
    "Again, a lot of the same features appear again here. `specific_humidity` is a bit less\n",
    "dominant in this list"
   ]
  }
 ],
 "metadata": {
  "kernelspec": {
   "display_name": "denguai",
   "language": "python",
   "name": "denguai"
  },
  "language_info": {
   "codemirror_mode": {
    "name": "ipython",
    "version": 3
   },
   "file_extension": ".py",
   "mimetype": "text/x-python",
   "name": "python",
   "nbconvert_exporter": "python",
   "pygments_lexer": "ipython3",
   "version": "3.8.1"
  }
 },
 "nbformat": 4,
 "nbformat_minor": 4
}
